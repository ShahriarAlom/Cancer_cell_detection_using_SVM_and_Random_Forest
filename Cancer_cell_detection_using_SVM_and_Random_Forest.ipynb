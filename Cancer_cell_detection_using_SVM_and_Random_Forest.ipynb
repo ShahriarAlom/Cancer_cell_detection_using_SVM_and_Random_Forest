{
  "cells": [
    {
      "cell_type": "markdown",
      "metadata": {
        "id": "view-in-github",
        "colab_type": "text"
      },
      "source": [
        "<a href=\"https://colab.research.google.com/github/ShahriarAlom/Cancer_cell_detection_using_SVM_and_Random_Forest/blob/main/Cancer_cell_detection_using_SVM_and_Random_Forest.ipynb\" target=\"_parent\"><img src=\"https://colab.research.google.com/assets/colab-badge.svg\" alt=\"Open In Colab\"/></a>"
      ]
    },
    {
      "cell_type": "markdown",
      "metadata": {
        "id": "vLwkTQf7SNOm"
      },
      "source": [
        "# Support Vector Machine"
      ]
    },
    {
      "cell_type": "code",
      "execution_count": null,
      "metadata": {
        "id": "PRuwuIlfiVbO"
      },
      "outputs": [],
      "source": [
        "# Importing necessary libraries\n",
        "import numpy as np\n",
        "import pandas as pd\n",
        "import matplotlib.pyplot as plt\n",
        "import seaborn as sns\n",
        "from sklearn.svm import SVC\n",
        "from sklearn.model_selection import train_test_split\n",
        "from sklearn.metrics import confusion_matrix, classification_report\n",
        "from sklearn.datasets import load_digits\n",
        "from sklearn.preprocessing import StandardScaler\n",
        "from sklearn.pipeline import Pipeline\n",
        "from sklearn.model_selection import GridSearchCV\n",
        "from sklearn.decomposition import PCA\n",
        "from sklearn import svm, datasets\n",
        "from skimage.feature import hog\n",
        "from skimage import data, exposure\n",
        "import joblib\n",
        "import cv2\n",
        "import os"
      ]
    },
    {
      "cell_type": "code",
      "execution_count": null,
      "metadata": {
        "colab": {
          "base_uri": "https://localhost:8080/"
        },
        "id": "koePBhp_p0UX",
        "outputId": "4ff8f60e-378b-41b3-f962-a06d10036af3"
      },
      "outputs": [
        {
          "output_type": "stream",
          "name": "stdout",
          "text": [
            "Mounted at /content/drive\n"
          ]
        }
      ],
      "source": [
        "from google.colab import drive\n",
        "drive.mount('/content/drive')"
      ]
    },
    {
      "cell_type": "code",
      "execution_count": null,
      "metadata": {
        "id": "Rew4QYGT8xgE"
      },
      "outputs": [],
      "source": [
        "# Define the path to the image directory\n",
        "path = '/content/drive/My Drive/Colab Notebooks/dataset'"
      ]
    },
    {
      "cell_type": "code",
      "execution_count": null,
      "metadata": {
        "id": "rzZuM0tjiazI"
      },
      "outputs": [],
      "source": [
        "# Reading image data\n",
        "images = []\n",
        "labels = []\n",
        "for folder in os.listdir(path):\n",
        "    folder_path = os.path.join(path, folder)\n",
        "    if os.path.isdir(folder_path):\n",
        "        class_label = folder # Set the class label as the folder name\n",
        "        for filename in os.listdir(folder_path):\n",
        "            if filename.endswith('.jpg'):\n",
        "                image_path = os.path.join(folder_path, filename)\n",
        "                image = cv2.imread(image_path)\n",
        "                image = cv2.cvtColor(image, cv2.COLOR_BGR2GRAY)\n",
        "                image = cv2.resize(image, (64, 64))\n",
        "                fd, hog_image = hog(image, orientations=8, pixels_per_cell=(8, 8), cells_per_block=(1, 1), visualize=True)\n",
        "                images.append(fd)\n",
        "                labels.append(class_label)\n"
      ]
    },
    {
      "cell_type": "code",
      "execution_count": null,
      "metadata": {
        "id": "SPHYXO3S37Vk"
      },
      "outputs": [],
      "source": [
        "# Converting to numpy arrays\n",
        "images = np.array(images)\n",
        "labels = np.array(labels)"
      ]
    },
    {
      "cell_type": "code",
      "execution_count": null,
      "metadata": {
        "id": "JttBdXDS3_P1"
      },
      "outputs": [],
      "source": [
        "# Splitting into train and test sets\n",
        "X_train, X_test, y_train, y_test = train_test_split(images, labels, test_size=0.1, random_state=42)"
      ]
    },
    {
      "cell_type": "code",
      "execution_count": null,
      "metadata": {
        "id": "NnMEbOLq9Nv-"
      },
      "outputs": [],
      "source": [
        "# Scaling the data\n",
        "scaler = StandardScaler()\n",
        "X_train = scaler.fit_transform(X_train)\n",
        "X_test = scaler.transform(X_test)"
      ]
    },
    {
      "cell_type": "code",
      "execution_count": null,
      "metadata": {
        "id": "vz2FWVS69VZF"
      },
      "outputs": [],
      "source": [
        "# Building SVM model\n",
        "#clf = SVC(kernel='rbf', C=10, gamma=0.1)\n"
      ]
    },
    {
      "cell_type": "code",
      "execution_count": null,
      "metadata": {
        "id": "VjbCX1cd9dX4"
      },
      "outputs": [],
      "source": [
        "# Training the model\n",
        "#clf.fit(X_train, y_train)"
      ]
    },
    {
      "cell_type": "code",
      "execution_count": null,
      "metadata": {
        "id": "LbgLtDykAykQ"
      },
      "outputs": [],
      "source": [
        "#pip install joblib"
      ]
    },
    {
      "cell_type": "code",
      "execution_count": null,
      "metadata": {
        "id": "90g-EHdsAg_w"
      },
      "outputs": [],
      "source": [
        "#import joblib\n",
        "\n",
        "\n",
        "# Save the trained model\n",
        "#joblib.dump(clf, 'model.pkl')"
      ]
    },
    {
      "cell_type": "code",
      "execution_count": null,
      "metadata": {
        "id": "j1FRQ4gFDPVf"
      },
      "outputs": [],
      "source": [
        "#class_names = ['benign', 'malignant']\n",
        "\n",
        "# Load the model\n",
        "#clf = ..."
      ]
    },
    {
      "cell_type": "code",
      "execution_count": null,
      "metadata": {
        "colab": {
          "base_uri": "https://localhost:8080/",
          "height": 472
        },
        "id": "9kvPi-LhXan6",
        "outputId": "714d5886-d5a6-4bbc-907d-17061f8c42db"
      },
      "outputs": [
        {
          "output_type": "display_data",
          "data": {
            "text/plain": [
              "<Figure size 640x480 with 2 Axes>"
            ],
            "image/png": "[encoded data removed]"
          },
          "metadata": {}
        }
      ],
      "source": [
        "# Set the class names\n",
        "class_names = ['benign', 'malignant']\n",
        "\n",
        "# Load the trained model\n",
        "clf = joblib.load('/content/drive/MyDrive/Colab Notebooks/model.pkl')\n",
        "\n",
        "# Converting to numpy arrays\n",
        "#images = np.array(images)\n",
        "#labels = np.array(labels)\n",
        "\n",
        "# Scaling the data\n",
        "scaler = StandardScaler()\n",
        "images = scaler.fit_transform(images)\n",
        "\n",
        "# Predicting on test set\n",
        "y_pred = clf.predict(images)\n",
        "\n",
        "# Generating confusion matrix\n",
        "cm = confusion_matrix(labels, y_pred, labels=class_names)\n",
        "\n",
        "# Plotting the confusion matrix\n",
        "sns.heatmap(cm, annot=True, fmt='d', cmap='Blues', xticklabels=class_names, yticklabels=class_names)\n",
        "\n",
        "plt.title('Confusion Matrix')\n",
        "plt.xlabel('Predicted')\n",
        "plt.ylabel('True')\n",
        "plt.show()\n"
      ]
    },
    {
      "cell_type": "code",
      "execution_count": null,
      "metadata": {
        "colab": {
          "base_uri": "https://localhost:8080/"
        },
        "id": "GJtvg9DDVyhq",
        "outputId": "2ec89f1f-5ef8-45fc-88f8-49af0f44acd6"
      },
      "outputs": [
        {
          "output_type": "stream",
          "name": "stdout",
          "text": [
            "[[556   0]\n",
            " [501   4]]\n",
            "              precision    recall  f1-score   support\n",
            "\n",
            "      benign       0.53      1.00      0.69       556\n",
            "   malignant       1.00      0.01      0.02       505\n",
            "\n",
            "    accuracy                           0.53      1061\n",
            "   macro avg       0.76      0.50      0.35      1061\n",
            "weighted avg       0.75      0.53      0.37      1061\n",
            "\n"
          ]
        }
      ],
      "source": [
        "\n",
        "# Predicting on test set\n",
        "y_pred = clf.predict(X_test)\n",
        "\n",
        "# Evaluating the model\n",
        "print(confusion_matrix(y_test, y_pred))\n",
        "print(classification_report(y_test, y_pred))\n"
      ]
    },
    {
      "cell_type": "code",
      "execution_count": null,
      "metadata": {
        "colab": {
          "base_uri": "https://localhost:8080/",
          "height": 472
        },
        "id": "ARPxXKgbLX2C",
        "outputId": "1a0500a0-ebcd-4607-c982-212e952afe7f"
      },
      "outputs": [
        {
          "output_type": "display_data",
          "data": {
            "text/plain": [
              "<Figure size 640x480 with 1 Axes>"
            ],
            "image/png": "[encoded data removed]"
          },
          "metadata": {}
        }
      ],
      "source": [
        "from sklearn.metrics import r2_score\n",
        "\n",
        "# Define the colors for each class\n",
        "colors = {'benign': 'blue', 'malignant': 'red'}\n",
        "\n",
        "# Plot the data\n",
        "for i, class_name in enumerate(class_names):\n",
        "    plt.scatter(X_test[y_test==class_name, 0], X_test[y_test==class_name, 1], color=colors[class_name], label=class_name)\n",
        "\n",
        "# Plot the line of best fit\n",
        "m, b = np.polyfit(X_test[:,0], X_test[:,1], 1)\n",
        "plt.plot(X_test[:,0], m * X_test[:,0] + b, color='green', label=f'Slope: {m:.2f}, R2 score: {r2_score(X_test[:,1], m * X_test[:,0] + b):.2f}')\n",
        "\n",
        "plt.title('Classification Model')\n",
        "plt.xlabel('Feature 1')\n",
        "plt.ylabel('Feature 2')\n",
        "plt.legend()\n",
        "plt.show()\n"
      ]
    },
    {
      "cell_type": "markdown",
      "metadata": {
        "id": "s4YDUjmtBmZj"
      },
      "source": []
    },
    {
      "cell_type": "code",
      "execution_count": null,
      "metadata": {
        "id": "d45jEPNl__JG"
      },
      "outputs": [],
      "source": [
        "#!pip install opencv-python-headless\n",
        "#!pip install pyngrok"
      ]
    },
    {
      "cell_type": "markdown",
      "metadata": {
        "id": "-5CAjO2rSDIH"
      },
      "source": [
        "# Random Forest"
      ]
    },
    {
      "cell_type": "code",
      "execution_count": null,
      "metadata": {
        "id": "w9lATS0dS8OJ"
      },
      "outputs": [],
      "source": [
        "import numpy as np\n",
        "import pandas as pd\n",
        "import matplotlib.pyplot as plt\n",
        "import seaborn as sns\n",
        "from sklearn.ensemble import RandomForestClassifier\n",
        "from sklearn.model_selection import train_test_split\n",
        "from sklearn.metrics import confusion_matrix, classification_report\n",
        "from sklearn.datasets import load_digits\n",
        "from sklearn.preprocessing import StandardScaler\n",
        "from sklearn.pipeline import Pipeline\n",
        "from sklearn.model_selection import GridSearchCV\n",
        "from sklearn.decomposition import PCA\n",
        "from skimage.feature import hog\n",
        "from skimage import data, exposure\n",
        "import cv2\n",
        "import os"
      ]
    },
    {
      "cell_type": "code",
      "execution_count": null,
      "metadata": {
        "id": "loXM5eI-S6Wj"
      },
      "outputs": [],
      "source": [
        "# Define the path to the image directory\n",
        "path = '/content/drive/My Drive/Colab Notebooks/dataset'\n"
      ]
    },
    {
      "cell_type": "code",
      "execution_count": null,
      "metadata": {
        "id": "eec9AVSTTQQ9"
      },
      "outputs": [],
      "source": [
        "# Reading image data\n",
        "images = []\n",
        "labels = []\n",
        "for folder in os.listdir(path):\n",
        "    folder_path = os.path.join(path, folder)\n",
        "    if os.path.isdir(folder_path):\n",
        "        class_label = folder # Set the class label as the folder name\n",
        "        for filename in os.listdir(folder_path):\n",
        "            if filename.endswith('.jpg'):\n",
        "                image_path = os.path.join(folder_path, filename)\n",
        "                image = cv2.imread(image_path)\n",
        "                image = cv2.cvtColor(image, cv2.COLOR_BGR2GRAY)\n",
        "                image = cv2.resize(image, (64, 64))\n",
        "                fd, hog_image = hog(image, orientations=8, pixels_per_cell=(8, 8), cells_per_block=(1, 1), visualize=True)\n",
        "                images.append(fd)\n",
        "                labels.append(class_label)"
      ]
    },
    {
      "cell_type": "code",
      "execution_count": null,
      "metadata": {
        "id": "6TP9eiFqTWbZ"
      },
      "outputs": [],
      "source": [
        "# Converting to numpy arrays\n",
        "images = np.array(images)\n",
        "labels = np.array(labels)\n",
        "\n",
        "# Splitting into train and test sets\n",
        "X_train, X_test, y_train, y_test = train_test_split(images, labels, test_size=0.1, random_state=42)\n",
        "\n",
        "# Scaling the data\n",
        "scaler = StandardScaler()\n",
        "X_train = scaler.fit_transform(X_train)\n",
        "X_test = scaler.transform(X_test)\n",
        "\n",
        "# Building Random Forest model\n",
        "clf = RandomForestClassifier(n_estimators=100, random_state=42)"
      ]
    },
    {
      "cell_type": "code",
      "execution_count": null,
      "metadata": {
        "id": "6Pliwx1WTZoz"
      },
      "outputs": [],
      "source": [
        "# Training the model\n",
        "#clf.fit(X_train, y_train)"
      ]
    },
    {
      "cell_type": "code",
      "execution_count": null,
      "metadata": {
        "id": "kOpbd18_WVPr"
      },
      "outputs": [],
      "source": [
        "# Save the trained model\n",
        "#joblib.dump(clf, 'model_2.pkl')"
      ]
    },
    {
      "cell_type": "code",
      "source": [
        "# Set the class names\n",
        "class_names = ['benign', 'malignant']\n",
        "\n",
        "# Load the trained model\n",
        "clf = joblib.load('/content/drive/MyDrive/Colab Notebooks/model_2.pkl')\n",
        "\n",
        "# Converting to numpy arrays\n",
        "#images = np.array(images)\n",
        "#labels = np.array(labels)\n",
        "\n",
        "# Scaling the data\n",
        "scaler = StandardScaler()\n",
        "images = scaler.fit_transform(images)\n"
      ],
      "metadata": {
        "id": "2DTVOC7QrcPF"
      },
      "execution_count": null,
      "outputs": []
    },
    {
      "cell_type": "code",
      "execution_count": null,
      "metadata": {
        "id": "msXPRQkmThCw"
      },
      "outputs": [],
      "source": [
        "# Predicting on test set\n",
        "y_pred = clf.predict(X_test)"
      ]
    },
    {
      "cell_type": "code",
      "execution_count": null,
      "metadata": {
        "colab": {
          "base_uri": "https://localhost:8080/"
        },
        "id": "YLS6XH76TlFb",
        "outputId": "04b7f934-d25d-4324-b995-1305a8ec035f"
      },
      "outputs": [
        {
          "output_type": "stream",
          "name": "stdout",
          "text": [
            "[[509  47]\n",
            " [120 385]]\n",
            "              precision    recall  f1-score   support\n",
            "\n",
            "      benign       0.81      0.92      0.86       556\n",
            "   malignant       0.89      0.76      0.82       505\n",
            "\n",
            "    accuracy                           0.84      1061\n",
            "   macro avg       0.85      0.84      0.84      1061\n",
            "weighted avg       0.85      0.84      0.84      1061\n",
            "\n"
          ]
        }
      ],
      "source": [
        "# Evaluating the model\n",
        "print(confusion_matrix(y_test, y_pred))\n",
        "print(classification_report(y_test, y_pred))"
      ]
    },
    {
      "cell_type": "code",
      "execution_count": null,
      "metadata": {
        "colab": {
          "base_uri": "https://localhost:8080/",
          "height": 472
        },
        "id": "-Q9airLpTpme",
        "outputId": "67d996bb-a2c3-4348-a001-ca3faf27fcca"
      },
      "outputs": [
        {
          "output_type": "display_data",
          "data": {
            "text/plain": [
              "<Figure size 640x480 with 2 Axes>"
            ],
            "image/png": "[encoded data removed]"
          },
          "metadata": {}
        }
      ],
      "source": [
        "# Plot the confusion matrix\n",
        "sns.heatmap(confusion_matrix(y_test, y_pred), annot=True, cmap='Blues', xticklabels=['benign', 'malignant'], yticklabels=['benign', 'malignant'])\n",
        "plt.title('Confusion Matrix')\n",
        "plt.xlabel('Predicted')\n",
        "plt.ylabel('True')\n",
        "plt.show()"
      ]
    },
    {
      "cell_type": "code",
      "execution_count": null,
      "metadata": {
        "colab": {
          "base_uri": "https://localhost:8080/",
          "height": 452
        },
        "id": "7I2MmFDHTuHW",
        "outputId": "6697e7d5-8dcd-4867-c282-ef515dd35f71"
      },
      "outputs": [
        {
          "output_type": "display_data",
          "data": {
            "text/plain": [
              "<Figure size 640x480 with 1 Axes>"
            ],
            "image/png": "[encoded data removed]"
          },
          "metadata": {}
        }
      ],
      "source": [
        "# Plot feature importance\n",
        "importances = clf.feature_importances_\n",
        "indices = np.argsort(importances)[::-1]\n",
        "plt.figure()\n",
        "plt.title(\"Feature Importances\")\n",
        "plt.bar(range(X_train.shape[1]), importances[indices])\n",
        "plt.xticks(range(X_train.shape[1]), indices)\n",
        "plt.xlim([-1, X_train.shape[1]])\n",
        "plt.show()\n"
      ]
    },
    {
      "cell_type": "code",
      "source": [
        "print(\"SVM model score:\")\n",
        "print(\"X1\")\n",
        "print(\"Y1\")\n",
        "\n",
        "print(\"Random Forest score:\")\n",
        "print(confusion_matrix(y_test, y_pred))\n",
        "print(classification_report(y_test, y_pred))\n",
        "\n",
        "print(\"KNN score:\")\n",
        "print(\"X3\")\n",
        "print(\"Y3\")"
      ],
      "metadata": {
        "colab": {
          "base_uri": "https://localhost:8080/"
        },
        "id": "fnuejstfl0Jp",
        "outputId": "ef6c2089-373d-41ea-b87e-5d88f6656679"
      },
      "execution_count": null,
      "outputs": [
        {
          "output_type": "stream",
          "name": "stdout",
          "text": [
            "SVM model score:\n",
            "X1\n",
            "Y1\n",
            "Random Forest score:\n",
            "[[509  47]\n",
            " [120 385]]\n",
            "              precision    recall  f1-score   support\n",
            "\n",
            "      benign       0.81      0.92      0.86       556\n",
            "   malignant       0.89      0.76      0.82       505\n",
            "\n",
            "    accuracy                           0.84      1061\n",
            "   macro avg       0.85      0.84      0.84      1061\n",
            "weighted avg       0.85      0.84      0.84      1061\n",
            "\n",
            "KNN score:\n",
            "X3\n",
            "Y3\n"
          ]
        }
      ]
    },
    {
      "cell_type": "code",
      "source": [],
      "metadata": {
        "id": "lw_-6hxzo1I8"
      },
      "execution_count": null,
      "outputs": []
    }
  ],
  "metadata": {
    "colab": {
      "provenance": [],
      "gpuType": "T4",
      "include_colab_link": true
    },
    "gpuClass": "standard",
    "kernelspec": {
      "display_name": "Python 3",
      "name": "python3"
    },
    "language_info": {
      "name": "python"
    }
  },
  "nbformat": 4,
  "nbformat_minor": 0
}